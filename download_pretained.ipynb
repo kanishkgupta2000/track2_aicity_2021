{
 "cells": [
  {
   "cell_type": "code",
   "execution_count": 1,
   "metadata": {},
   "outputs": [],
   "source": [
    "import torch"
   ]
  },
  {
   "cell_type": "code",
   "execution_count": 2,
   "metadata": {},
   "outputs": [
    {
     "name": "stderr",
     "output_type": "stream",
     "text": [
      "Downloading: \"https://github.com/XingangPan/IBN-Net/archive/master.zip\" to C:\\Users\\kanis/.cache\\torch\\hub\\master.zip\n",
      "Downloading: \"https://github.com/XingangPan/IBN-Net/releases/download/v1.0/resnet50_ibn_a-d9d0bb7b.pth\" to C:\\Users\\kanis/.cache\\torch\\hub\\checkpoints\\resnet50_ibn_a-d9d0bb7b.pth\n",
      "100.0%\n"
     ]
    }
   ],
   "source": [
    "resnet_50_a_model = torch.hub.load('XingangPan/IBN-Net', 'resnet50_ibn_a', pretrained=True)"
   ]
  },
  {
   "cell_type": "code",
   "execution_count": 2,
   "metadata": {},
   "outputs": [
    {
     "name": "stderr",
     "output_type": "stream",
     "text": [
      "Using cache found in C:\\Users\\kanis/.cache\\torch\\hub\\XingangPan_IBN-Net_master\n"
     ]
    }
   ],
   "source": [
    "resnext_101_a_model = torch.hub.load('XingangPan/IBN-Net', 'resnext101_ibn_a', pretrained=True)\n"
   ]
  },
  {
   "cell_type": "code",
   "execution_count": 3,
   "metadata": {},
   "outputs": [],
   "source": [
    "torch.save({\n",
    "    'state_dict': resnext_101_a_model.state_dict(),\n",
    "}, 'pretrained_ckpts/resnext101_ibn_a.pth.tar')"
   ]
  },
  {
   "cell_type": "code",
   "execution_count": null,
   "metadata": {},
   "outputs": [],
   "source": []
  }
 ],
 "metadata": {
  "interpreter": {
   "hash": "239e582fb97834c65c235d3b751bfd73bdfbdd8087c43f4e0040c81d9e986292"
  },
  "kernelspec": {
   "display_name": "Python 3.7.4 64-bit ('venv': venv)",
   "language": "python",
   "name": "python3"
  },
  "language_info": {
   "codemirror_mode": {
    "name": "ipython",
    "version": 3
   },
   "file_extension": ".py",
   "mimetype": "text/x-python",
   "name": "python",
   "nbconvert_exporter": "python",
   "pygments_lexer": "ipython3",
   "version": "3.7.4"
  },
  "orig_nbformat": 4
 },
 "nbformat": 4,
 "nbformat_minor": 2
}
